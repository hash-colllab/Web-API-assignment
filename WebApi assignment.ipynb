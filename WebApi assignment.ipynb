{
  "metadata": {
    "kernelspec": {
      "name": "python",
      "display_name": "Python (Pyodide)",
      "language": "python"
    },
    "language_info": {
      "codemirror_mode": {
        "name": "python",
        "version": 3
      },
      "file_extension": ".py",
      "mimetype": "text/x-python",
      "name": "python",
      "nbconvert_exporter": "python",
      "pygments_lexer": "ipython3",
      "version": "3.8"
    }
  },
  "nbformat_minor": 4,
  "nbformat": 4,
  "cells": [
    {
      "cell_type": "code",
      "source": "# ANS 1:- An API, or Application Programming Interface, is a set of rules and protocols that allows different software\n#         applications to communAdvantages of APIs:\n# For example, when you use an app on your phone to check the weather, the app communicates with a weather service’s API\n#         to get the latest weather data and display it to you.",
      "metadata": {
        "trusted": true
      },
      "outputs": [],
      "execution_count": 1
    },
    {
      "cell_type": "code",
      "source": "# ANS 2:- Advantages of APIs:\n# 1. Modularity: APIs bring a new level of modularity to applications.\n# 2. Automation: APIs use robotic computers, resulting in better and more automated results.\n# 3. New Functionality: Developers discover new tools and functionality through API exchanges.\n#        Disadvantages of APIs:\n# 1. Security Risks: APIs can be a single point of entry and become a hacker’s primary target.\n# 2. Simplicity vs. Complexity: While RESTful APIs are easy to use, their simplicity can also be a curse.\n# 3. Incremental Work: When supporting new app layer features not yet supported by the API, additional work may be required",
      "metadata": {
        "trusted": true
      },
      "outputs": [],
      "execution_count": 2
    },
    {
      "cell_type": "code",
      "source": "# ANS 3:- Web API is an API as the name suggests, it can be accessed over the web using the HTTP protocol.\n# It is a framework that helps you to create and develop HTTP based RESTFUL services.",
      "metadata": {
        "trusted": true
      },
      "outputs": [],
      "execution_count": 3
    },
    {
      "cell_type": "code",
      "source": "# DIFFERENCE BETWEEN API'S AND WEB API'S :-\n# An API is a software interface that allows two applications to interact with each other without user involvement.\n# Web API is an API as the name suggests, it can be accessed over the web using the HTTP protocol.\n# It is a framework that helps you to create and develop HTTP based RESTFUL services. ",
      "metadata": {
        "trusted": true
      },
      "outputs": [],
      "execution_count": 4
    },
    {
      "cell_type": "code",
      "source": "# ANS 4:- Representational State Transfer (REST) is an architectural style that defines a set of constraints to be used \n# for creating web services. REST API is a way of accessing web services in a simple and flexible way without having\n# any processing.\n# Simple Object Access Protocol(SOAP) is a network protocol for exchanging structured data between nodes. It uses XML format\n# to transfer messages. It works on top of application layer protocols like HTTP and SMTP for notations and transmission.",
      "metadata": {
        "trusted": true
      },
      "outputs": [],
      "execution_count": 5
    },
    {
      "cell_type": "code",
      "source": "# ANS 5:-Difference between REST and SOAP. \n# 1. Since SOAP is a protocol, it follows a strict standard to allow communication between the client and the server whereas\n# REST is an architectural style that doesn’t follow any strict standard but follows six constraints defined by Roy Fielding.\n# 2. SOAP uses only XML for exchanging information in its message format whereas REST is not restricted to XML and its the\n# choice of implementer which Media-Type to use like XML, JSON, Plain-text.",
      "metadata": {
        "trusted": true
      },
      "outputs": [],
      "execution_count": 6
    },
    {
      "cell_type": "code",
      "source": "",
      "metadata": {
        "trusted": true
      },
      "outputs": [],
      "execution_count": null
    }
  ]
}